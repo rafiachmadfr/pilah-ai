{
  "cells": [
    {
      "cell_type": "markdown",
      "id": "7d0997ec",
      "metadata": {
        "id": "7d0997ec"
      },
      "source": [
        "# Import Library"
      ]
    },
    {
      "cell_type": "code",
      "execution_count": null,
      "id": "e82b0f69",
      "metadata": {
        "id": "e82b0f69"
      },
      "outputs": [],
      "source": [
        "import tensorflow as tf\n",
        "import tensorflowjs as tfjs\n",
        "import os"
      ]
    },
    {
      "cell_type": "markdown",
      "id": "edbd51c4",
      "metadata": {
        "id": "edbd51c4"
      },
      "source": [
        "# Convert to TF Lite"
      ]
    },
    {
      "cell_type": "code",
      "execution_count": null,
      "id": "1e47a14b",
      "metadata": {
        "id": "1e47a14b"
      },
      "outputs": [],
      "source": [
        "# --- Konfigurasi ---\n",
        "# Jalur ke model hasil fine-tuning yang sudah Anda simpan\n",
        "MODEL_PATH = '../models/klasifikasi_sampah_final_v1.h5'\n",
        "\n",
        "# Jalur untuk menyimpan model TensorFlow Lite yang sudah dikuantisasi\n",
        "QUANTIZED_MODEL_PATH = '../models/klasifikasi_sampah_tflite_v1.tflite'"
      ]
    },
    {
      "cell_type": "code",
      "execution_count": null,
      "id": "8c2e7efa",
      "metadata": {
        "id": "8c2e7efa"
      },
      "outputs": [],
      "source": [
        "# Ukuran gambar yang digunakan model (harus sama dengan yang digunakan saat training)\n",
        "IMAGE_WIDTH = 224\n",
        "IMAGE_HEIGHT = 224\n",
        "TARGET_IMAGE_SIZE = (IMAGE_WIDTH, IMAGE_HEIGHT)"
      ]
    },
    {
      "cell_type": "code",
      "execution_count": null,
      "id": "890ac490",
      "metadata": {
        "id": "890ac490",
        "outputId": "c9cd045f-dd7d-4b8a-c36a-1fa9bab0982d"
      },
      "outputs": [
        {
          "name": "stdout",
          "output_type": "stream",
          "text": [
            "\n",
            "Memuat model Keras dari: ../models/klasifikasi_sampah_final_v1.h5\n"
          ]
        },
        {
          "name": "stderr",
          "output_type": "stream",
          "text": [
            "WARNING:absl:Compiled the loaded model, but the compiled metrics have yet to be built. `model.compile_metrics` will be empty until you train or evaluate the model.\n"
          ]
        },
        {
          "name": "stdout",
          "output_type": "stream",
          "text": [
            "Model Keras berhasil dimuat.\n"
          ]
        },
        {
          "data": {
            "text/html": [
              "<pre style=\"white-space:pre;overflow-x:auto;line-height:normal;font-family:Menlo,'DejaVu Sans Mono',consolas,'Courier New',monospace\"><span style=\"font-weight: bold\">Model: \"functional_14\"</span>\n",
              "</pre>\n"
            ],
            "text/plain": [
              "\u001b[1mModel: \"functional_14\"\u001b[0m\n"
            ]
          },
          "metadata": {},
          "output_type": "display_data"
        },
        {
          "data": {
            "text/html": [
              "<pre style=\"white-space:pre;overflow-x:auto;line-height:normal;font-family:Menlo,'DejaVu Sans Mono',consolas,'Courier New',monospace\">┏━━━━━━━━━━━━━━━━━━━━━━━━━━━━━━━━━┳━━━━━━━━━━━━━━━━━━━━━━━━┳━━━━━━━━━━━━━━━┓\n",
              "┃<span style=\"font-weight: bold\"> Layer (type)                    </span>┃<span style=\"font-weight: bold\"> Output Shape           </span>┃<span style=\"font-weight: bold\">       Param # </span>┃\n",
              "┡━━━━━━━━━━━━━━━━━━━━━━━━━━━━━━━━━╇━━━━━━━━━━━━━━━━━━━━━━━━╇━━━━━━━━━━━━━━━┩\n",
              "│ input_layer_4 (<span style=\"color: #0087ff; text-decoration-color: #0087ff\">InputLayer</span>)      │ (<span style=\"color: #00d7ff; text-decoration-color: #00d7ff\">None</span>, <span style=\"color: #00af00; text-decoration-color: #00af00\">224</span>, <span style=\"color: #00af00; text-decoration-color: #00af00\">224</span>, <span style=\"color: #00af00; text-decoration-color: #00af00\">3</span>)    │             <span style=\"color: #00af00; text-decoration-color: #00af00\">0</span> │\n",
              "├─────────────────────────────────┼────────────────────────┼───────────────┤\n",
              "│ mobilenetv2_1.00_224            │ (<span style=\"color: #00d7ff; text-decoration-color: #00d7ff\">None</span>, <span style=\"color: #00af00; text-decoration-color: #00af00\">7</span>, <span style=\"color: #00af00; text-decoration-color: #00af00\">7</span>, <span style=\"color: #00af00; text-decoration-color: #00af00\">1280</span>)     │     <span style=\"color: #00af00; text-decoration-color: #00af00\">2,257,984</span> │\n",
              "│ (<span style=\"color: #0087ff; text-decoration-color: #0087ff\">Functional</span>)                    │                        │               │\n",
              "├─────────────────────────────────┼────────────────────────┼───────────────┤\n",
              "│ global_average_pooling2d_1      │ (<span style=\"color: #00d7ff; text-decoration-color: #00d7ff\">None</span>, <span style=\"color: #00af00; text-decoration-color: #00af00\">1280</span>)           │             <span style=\"color: #00af00; text-decoration-color: #00af00\">0</span> │\n",
              "│ (<span style=\"color: #0087ff; text-decoration-color: #0087ff\">GlobalAveragePooling2D</span>)        │                        │               │\n",
              "├─────────────────────────────────┼────────────────────────┼───────────────┤\n",
              "│ dense_2 (<span style=\"color: #0087ff; text-decoration-color: #0087ff\">Dense</span>)                 │ (<span style=\"color: #00d7ff; text-decoration-color: #00d7ff\">None</span>, <span style=\"color: #00af00; text-decoration-color: #00af00\">256</span>)            │       <span style=\"color: #00af00; text-decoration-color: #00af00\">327,936</span> │\n",
              "├─────────────────────────────────┼────────────────────────┼───────────────┤\n",
              "│ dropout_1 (<span style=\"color: #0087ff; text-decoration-color: #0087ff\">Dropout</span>)             │ (<span style=\"color: #00d7ff; text-decoration-color: #00d7ff\">None</span>, <span style=\"color: #00af00; text-decoration-color: #00af00\">256</span>)            │             <span style=\"color: #00af00; text-decoration-color: #00af00\">0</span> │\n",
              "├─────────────────────────────────┼────────────────────────┼───────────────┤\n",
              "│ dense_3 (<span style=\"color: #0087ff; text-decoration-color: #0087ff\">Dense</span>)                 │ (<span style=\"color: #00d7ff; text-decoration-color: #00d7ff\">None</span>, <span style=\"color: #00af00; text-decoration-color: #00af00\">2</span>)              │           <span style=\"color: #00af00; text-decoration-color: #00af00\">514</span> │\n",
              "└─────────────────────────────────┴────────────────────────┴───────────────┘\n",
              "</pre>\n"
            ],
            "text/plain": [
              "┏━━━━━━━━━━━━━━━━━━━━━━━━━━━━━━━━━┳━━━━━━━━━━━━━━━━━━━━━━━━┳━━━━━━━━━━━━━━━┓\n",
              "┃\u001b[1m \u001b[0m\u001b[1mLayer (type)                   \u001b[0m\u001b[1m \u001b[0m┃\u001b[1m \u001b[0m\u001b[1mOutput Shape          \u001b[0m\u001b[1m \u001b[0m┃\u001b[1m \u001b[0m\u001b[1m      Param #\u001b[0m\u001b[1m \u001b[0m┃\n",
              "┡━━━━━━━━━━━━━━━━━━━━━━━━━━━━━━━━━╇━━━━━━━━━━━━━━━━━━━━━━━━╇━━━━━━━━━━━━━━━┩\n",
              "│ input_layer_4 (\u001b[38;5;33mInputLayer\u001b[0m)      │ (\u001b[38;5;45mNone\u001b[0m, \u001b[38;5;34m224\u001b[0m, \u001b[38;5;34m224\u001b[0m, \u001b[38;5;34m3\u001b[0m)    │             \u001b[38;5;34m0\u001b[0m │\n",
              "├─────────────────────────────────┼────────────────────────┼───────────────┤\n",
              "│ mobilenetv2_1.00_224            │ (\u001b[38;5;45mNone\u001b[0m, \u001b[38;5;34m7\u001b[0m, \u001b[38;5;34m7\u001b[0m, \u001b[38;5;34m1280\u001b[0m)     │     \u001b[38;5;34m2,257,984\u001b[0m │\n",
              "│ (\u001b[38;5;33mFunctional\u001b[0m)                    │                        │               │\n",
              "├─────────────────────────────────┼────────────────────────┼───────────────┤\n",
              "│ global_average_pooling2d_1      │ (\u001b[38;5;45mNone\u001b[0m, \u001b[38;5;34m1280\u001b[0m)           │             \u001b[38;5;34m0\u001b[0m │\n",
              "│ (\u001b[38;5;33mGlobalAveragePooling2D\u001b[0m)        │                        │               │\n",
              "├─────────────────────────────────┼────────────────────────┼───────────────┤\n",
              "│ dense_2 (\u001b[38;5;33mDense\u001b[0m)                 │ (\u001b[38;5;45mNone\u001b[0m, \u001b[38;5;34m256\u001b[0m)            │       \u001b[38;5;34m327,936\u001b[0m │\n",
              "├─────────────────────────────────┼────────────────────────┼───────────────┤\n",
              "│ dropout_1 (\u001b[38;5;33mDropout\u001b[0m)             │ (\u001b[38;5;45mNone\u001b[0m, \u001b[38;5;34m256\u001b[0m)            │             \u001b[38;5;34m0\u001b[0m │\n",
              "├─────────────────────────────────┼────────────────────────┼───────────────┤\n",
              "│ dense_3 (\u001b[38;5;33mDense\u001b[0m)                 │ (\u001b[38;5;45mNone\u001b[0m, \u001b[38;5;34m2\u001b[0m)              │           \u001b[38;5;34m514\u001b[0m │\n",
              "└─────────────────────────────────┴────────────────────────┴───────────────┘\n"
            ]
          },
          "metadata": {},
          "output_type": "display_data"
        },
        {
          "data": {
            "text/html": [
              "<pre style=\"white-space:pre;overflow-x:auto;line-height:normal;font-family:Menlo,'DejaVu Sans Mono',consolas,'Courier New',monospace\"><span style=\"font-weight: bold\"> Total params: </span><span style=\"color: #00af00; text-decoration-color: #00af00\">2,586,436</span> (9.87 MB)\n",
              "</pre>\n"
            ],
            "text/plain": [
              "\u001b[1m Total params: \u001b[0m\u001b[38;5;34m2,586,436\u001b[0m (9.87 MB)\n"
            ]
          },
          "metadata": {},
          "output_type": "display_data"
        },
        {
          "data": {
            "text/html": [
              "<pre style=\"white-space:pre;overflow-x:auto;line-height:normal;font-family:Menlo,'DejaVu Sans Mono',consolas,'Courier New',monospace\"><span style=\"font-weight: bold\"> Trainable params: </span><span style=\"color: #00af00; text-decoration-color: #00af00\">2,518,210</span> (9.61 MB)\n",
              "</pre>\n"
            ],
            "text/plain": [
              "\u001b[1m Trainable params: \u001b[0m\u001b[38;5;34m2,518,210\u001b[0m (9.61 MB)\n"
            ]
          },
          "metadata": {},
          "output_type": "display_data"
        },
        {
          "data": {
            "text/html": [
              "<pre style=\"white-space:pre;overflow-x:auto;line-height:normal;font-family:Menlo,'DejaVu Sans Mono',consolas,'Courier New',monospace\"><span style=\"font-weight: bold\"> Non-trainable params: </span><span style=\"color: #00af00; text-decoration-color: #00af00\">68,224</span> (266.50 KB)\n",
              "</pre>\n"
            ],
            "text/plain": [
              "\u001b[1m Non-trainable params: \u001b[0m\u001b[38;5;34m68,224\u001b[0m (266.50 KB)\n"
            ]
          },
          "metadata": {},
          "output_type": "display_data"
        },
        {
          "data": {
            "text/html": [
              "<pre style=\"white-space:pre;overflow-x:auto;line-height:normal;font-family:Menlo,'DejaVu Sans Mono',consolas,'Courier New',monospace\"><span style=\"font-weight: bold\"> Optimizer params: </span><span style=\"color: #00af00; text-decoration-color: #00af00\">2</span> (12.00 B)\n",
              "</pre>\n"
            ],
            "text/plain": [
              "\u001b[1m Optimizer params: \u001b[0m\u001b[38;5;34m2\u001b[0m (12.00 B)\n"
            ]
          },
          "metadata": {},
          "output_type": "display_data"
        }
      ],
      "source": [
        "# --- Bagian 1: Muat Model Keras yang Sudah Dilatih ---\n",
        "print(f\"\\nMemuat model Keras dari: {MODEL_PATH}\")\n",
        "try:\n",
        "    model = tf.keras.models.load_model(MODEL_PATH)\n",
        "    print(\"Model Keras berhasil dimuat.\")\n",
        "    model.summary()\n",
        "except Exception as e:\n",
        "    print(f\"Error: Gagal memuat model Keras dari '{MODEL_PATH}'. Pastikan jalur model benar dan file tidak rusak.\")\n",
        "    print(e)\n",
        "    exit() # Hentikan eksekusi jika model tidak dapat dimuat"
      ]
    },
    {
      "cell_type": "code",
      "execution_count": null,
      "id": "a0b974db",
      "metadata": {
        "id": "a0b974db",
        "outputId": "82099476-f497-4d6d-89fd-ce67c398eb7d"
      },
      "outputs": [
        {
          "name": "stdout",
          "output_type": "stream",
          "text": [
            "\n",
            "Melakukan kuantisasi ke float16...\n",
            "INFO:tensorflow:Assets written to: C:\\Users\\RAFI\\AppData\\Local\\Temp\\tmpu_bui3vb\\assets\n"
          ]
        },
        {
          "name": "stderr",
          "output_type": "stream",
          "text": [
            "INFO:tensorflow:Assets written to: C:\\Users\\RAFI\\AppData\\Local\\Temp\\tmpu_bui3vb\\assets\n"
          ]
        },
        {
          "name": "stdout",
          "output_type": "stream",
          "text": [
            "Saved artifact at 'C:\\Users\\RAFI\\AppData\\Local\\Temp\\tmpu_bui3vb'. The following endpoints are available:\n",
            "\n",
            "* Endpoint 'serve'\n",
            "  args_0 (POSITIONAL_ONLY): TensorSpec(shape=(None, 224, 224, 3), dtype=tf.float32, name='input_layer_4')\n",
            "Output Type:\n",
            "  TensorSpec(shape=(None, 2), dtype=tf.float32, name=None)\n",
            "Captures:\n",
            "  1786490229136: TensorSpec(shape=(), dtype=tf.resource, name=None)\n",
            "  1786490229712: TensorSpec(shape=(), dtype=tf.resource, name=None)\n",
            "  1786490231440: TensorSpec(shape=(), dtype=tf.resource, name=None)\n",
            "  1786490231056: TensorSpec(shape=(), dtype=tf.resource, name=None)\n",
            "  1786490229904: TensorSpec(shape=(), dtype=tf.resource, name=None)\n",
            "  1786490231632: TensorSpec(shape=(), dtype=tf.resource, name=None)\n",
            "  1786490232208: TensorSpec(shape=(), dtype=tf.resource, name=None)\n",
            "  1786490232400: TensorSpec(shape=(), dtype=tf.resource, name=None)\n",
            "  1786490230288: TensorSpec(shape=(), dtype=tf.resource, name=None)\n",
            "  1786490230864: TensorSpec(shape=(), dtype=tf.resource, name=None)\n",
            "  1786490232016: TensorSpec(shape=(), dtype=tf.resource, name=None)\n",
            "  1786490232976: TensorSpec(shape=(), dtype=tf.resource, name=None)\n",
            "  1786490233552: TensorSpec(shape=(), dtype=tf.resource, name=None)\n",
            "  1786490230096: TensorSpec(shape=(), dtype=tf.resource, name=None)\n",
            "  1785784395600: TensorSpec(shape=(), dtype=tf.resource, name=None)\n",
            "  1786490229328: TensorSpec(shape=(), dtype=tf.resource, name=None)\n",
            "  1786490234128: TensorSpec(shape=(), dtype=tf.resource, name=None)\n",
            "  1786490233936: TensorSpec(shape=(), dtype=tf.resource, name=None)\n",
            "  1786490232592: TensorSpec(shape=(), dtype=tf.resource, name=None)\n",
            "  1786490234704: TensorSpec(shape=(), dtype=tf.resource, name=None)\n",
            "  1786490230480: TensorSpec(shape=(), dtype=tf.resource, name=None)\n",
            "  1786490234320: TensorSpec(shape=(), dtype=tf.resource, name=None)\n",
            "  1786490234512: TensorSpec(shape=(), dtype=tf.resource, name=None)\n",
            "  1786490233744: TensorSpec(shape=(), dtype=tf.resource, name=None)\n",
            "  1786490235664: TensorSpec(shape=(), dtype=tf.resource, name=None)\n",
            "  1786490235088: TensorSpec(shape=(), dtype=tf.resource, name=None)\n",
            "  1786490235280: TensorSpec(shape=(), dtype=tf.resource, name=None)\n",
            "  1786490235472: TensorSpec(shape=(), dtype=tf.resource, name=None)\n",
            "  1786490230672: TensorSpec(shape=(), dtype=tf.resource, name=None)\n",
            "  1786490236624: TensorSpec(shape=(), dtype=tf.resource, name=None)\n",
            "  1786490236048: TensorSpec(shape=(), dtype=tf.resource, name=None)\n",
            "  1786490236240: TensorSpec(shape=(), dtype=tf.resource, name=None)\n",
            "  1786490236432: TensorSpec(shape=(), dtype=tf.resource, name=None)\n",
            "  1786490233360: TensorSpec(shape=(), dtype=tf.resource, name=None)\n",
            "  1786490237584: TensorSpec(shape=(), dtype=tf.resource, name=None)\n",
            "  1785786706128: TensorSpec(shape=(), dtype=tf.resource, name=None)\n",
            "  1786490237392: TensorSpec(shape=(), dtype=tf.resource, name=None)\n",
            "  1786490237776: TensorSpec(shape=(), dtype=tf.resource, name=None)\n",
            "  1786490236816: TensorSpec(shape=(), dtype=tf.resource, name=None)\n",
            "  1786490238352: TensorSpec(shape=(), dtype=tf.resource, name=None)\n",
            "  1786490237968: TensorSpec(shape=(), dtype=tf.resource, name=None)\n",
            "  1786490238160: TensorSpec(shape=(), dtype=tf.resource, name=None)\n",
            "  1786490238544: TensorSpec(shape=(), dtype=tf.resource, name=None)\n",
            "  1786490235856: TensorSpec(shape=(), dtype=tf.resource, name=None)\n",
            "  1786490239120: TensorSpec(shape=(), dtype=tf.resource, name=None)\n",
            "  1786490237008: TensorSpec(shape=(), dtype=tf.resource, name=None)\n",
            "  1786490237200: TensorSpec(shape=(), dtype=tf.resource, name=None)\n",
            "  1786490238928: TensorSpec(shape=(), dtype=tf.resource, name=None)\n",
            "  1786490228560: TensorSpec(shape=(), dtype=tf.resource, name=None)\n",
            "  1786490240080: TensorSpec(shape=(), dtype=tf.resource, name=None)\n",
            "  1786490239504: TensorSpec(shape=(), dtype=tf.resource, name=None)\n",
            "  1786490239696: TensorSpec(shape=(), dtype=tf.resource, name=None)\n",
            "  1786490239312: TensorSpec(shape=(), dtype=tf.resource, name=None)\n",
            "  1786490240848: TensorSpec(shape=(), dtype=tf.resource, name=None)\n",
            "  1786490240272: TensorSpec(shape=(), dtype=tf.resource, name=None)\n",
            "  1786490234896: TensorSpec(shape=(), dtype=tf.resource, name=None)\n",
            "  1786490240464: TensorSpec(shape=(), dtype=tf.resource, name=None)\n",
            "  1786490240656: TensorSpec(shape=(), dtype=tf.resource, name=None)\n",
            "  1786490239888: TensorSpec(shape=(), dtype=tf.resource, name=None)\n",
            "  1786490238736: TensorSpec(shape=(), dtype=tf.resource, name=None)\n",
            "  1786512097552: TensorSpec(shape=(), dtype=tf.resource, name=None)\n",
            "  1786512097936: TensorSpec(shape=(), dtype=tf.resource, name=None)\n",
            "  1786512098128: TensorSpec(shape=(), dtype=tf.resource, name=None)\n",
            "  1786512097744: TensorSpec(shape=(), dtype=tf.resource, name=None)\n",
            "  1786512099280: TensorSpec(shape=(), dtype=tf.resource, name=None)\n",
            "  1786512098704: TensorSpec(shape=(), dtype=tf.resource, name=None)\n",
            "  1786512098896: TensorSpec(shape=(), dtype=tf.resource, name=None)\n",
            "  1786512099088: TensorSpec(shape=(), dtype=tf.resource, name=None)\n",
            "  1786512098320: TensorSpec(shape=(), dtype=tf.resource, name=None)\n",
            "  1786512100240: TensorSpec(shape=(), dtype=tf.resource, name=None)\n",
            "  1786512099664: TensorSpec(shape=(), dtype=tf.resource, name=None)\n",
            "  1786512099856: TensorSpec(shape=(), dtype=tf.resource, name=None)\n",
            "  1786512100048: TensorSpec(shape=(), dtype=tf.resource, name=None)\n",
            "  1786512097360: TensorSpec(shape=(), dtype=tf.resource, name=None)\n",
            "  1786512101200: TensorSpec(shape=(), dtype=tf.resource, name=None)\n",
            "  1786512100624: TensorSpec(shape=(), dtype=tf.resource, name=None)\n",
            "  1786512100816: TensorSpec(shape=(), dtype=tf.resource, name=None)\n",
            "  1786512101008: TensorSpec(shape=(), dtype=tf.resource, name=None)\n",
            "  1786512098512: TensorSpec(shape=(), dtype=tf.resource, name=None)\n",
            "  1786512102160: TensorSpec(shape=(), dtype=tf.resource, name=None)\n",
            "  1786512101584: TensorSpec(shape=(), dtype=tf.resource, name=None)\n",
            "  1786512101776: TensorSpec(shape=(), dtype=tf.resource, name=None)\n",
            "  1786512101968: TensorSpec(shape=(), dtype=tf.resource, name=None)\n",
            "  1786512099472: TensorSpec(shape=(), dtype=tf.resource, name=None)\n",
            "  1786512103120: TensorSpec(shape=(), dtype=tf.resource, name=None)\n",
            "  1786512102544: TensorSpec(shape=(), dtype=tf.resource, name=None)\n",
            "  1786512102736: TensorSpec(shape=(), dtype=tf.resource, name=None)\n",
            "  1786512102928: TensorSpec(shape=(), dtype=tf.resource, name=None)\n",
            "  1786512100432: TensorSpec(shape=(), dtype=tf.resource, name=None)\n",
            "  1786512104080: TensorSpec(shape=(), dtype=tf.resource, name=None)\n",
            "  1786512103504: TensorSpec(shape=(), dtype=tf.resource, name=None)\n",
            "  1786512103696: TensorSpec(shape=(), dtype=tf.resource, name=None)\n",
            "  1786512103888: TensorSpec(shape=(), dtype=tf.resource, name=None)\n",
            "  1786512101392: TensorSpec(shape=(), dtype=tf.resource, name=None)\n",
            "  1786512105040: TensorSpec(shape=(), dtype=tf.resource, name=None)\n",
            "  1786512104464: TensorSpec(shape=(), dtype=tf.resource, name=None)\n",
            "  1786512104656: TensorSpec(shape=(), dtype=tf.resource, name=None)\n",
            "  1786512104848: TensorSpec(shape=(), dtype=tf.resource, name=None)\n",
            "  1786512102352: TensorSpec(shape=(), dtype=tf.resource, name=None)\n",
            "  1786512106000: TensorSpec(shape=(), dtype=tf.resource, name=None)\n",
            "  1786512105424: TensorSpec(shape=(), dtype=tf.resource, name=None)\n",
            "  1786512105616: TensorSpec(shape=(), dtype=tf.resource, name=None)\n",
            "  1786512105808: TensorSpec(shape=(), dtype=tf.resource, name=None)\n",
            "  1786512103312: TensorSpec(shape=(), dtype=tf.resource, name=None)\n",
            "  1786512106960: TensorSpec(shape=(), dtype=tf.resource, name=None)\n",
            "  1786512106384: TensorSpec(shape=(), dtype=tf.resource, name=None)\n",
            "  1786512106576: TensorSpec(shape=(), dtype=tf.resource, name=None)\n",
            "  1786512106768: TensorSpec(shape=(), dtype=tf.resource, name=None)\n",
            "  1786512104272: TensorSpec(shape=(), dtype=tf.resource, name=None)\n",
            "  1786512107920: TensorSpec(shape=(), dtype=tf.resource, name=None)\n",
            "  1786512107344: TensorSpec(shape=(), dtype=tf.resource, name=None)\n",
            "  1786512107536: TensorSpec(shape=(), dtype=tf.resource, name=None)\n",
            "  1786512107728: TensorSpec(shape=(), dtype=tf.resource, name=None)\n",
            "  1786512105232: TensorSpec(shape=(), dtype=tf.resource, name=None)\n",
            "  1786512108880: TensorSpec(shape=(), dtype=tf.resource, name=None)\n",
            "  1786512108304: TensorSpec(shape=(), dtype=tf.resource, name=None)\n",
            "  1786512108496: TensorSpec(shape=(), dtype=tf.resource, name=None)\n",
            "  1786512108688: TensorSpec(shape=(), dtype=tf.resource, name=None)\n",
            "  1786512106192: TensorSpec(shape=(), dtype=tf.resource, name=None)\n",
            "  1786512109840: TensorSpec(shape=(), dtype=tf.resource, name=None)\n",
            "  1786512109264: TensorSpec(shape=(), dtype=tf.resource, name=None)\n",
            "  1786512109456: TensorSpec(shape=(), dtype=tf.resource, name=None)\n",
            "  1786512109648: TensorSpec(shape=(), dtype=tf.resource, name=None)\n",
            "  1786512107152: TensorSpec(shape=(), dtype=tf.resource, name=None)\n",
            "  1786512110800: TensorSpec(shape=(), dtype=tf.resource, name=None)\n",
            "  1786512110224: TensorSpec(shape=(), dtype=tf.resource, name=None)\n",
            "  1786512110416: TensorSpec(shape=(), dtype=tf.resource, name=None)\n",
            "  1786512110608: TensorSpec(shape=(), dtype=tf.resource, name=None)\n",
            "  1786512108112: TensorSpec(shape=(), dtype=tf.resource, name=None)\n",
            "  1786512111760: TensorSpec(shape=(), dtype=tf.resource, name=None)\n",
            "  1786512111184: TensorSpec(shape=(), dtype=tf.resource, name=None)\n",
            "  1786512111376: TensorSpec(shape=(), dtype=tf.resource, name=None)\n",
            "  1786512111568: TensorSpec(shape=(), dtype=tf.resource, name=None)\n",
            "  1786512109072: TensorSpec(shape=(), dtype=tf.resource, name=None)\n",
            "  1786512112720: TensorSpec(shape=(), dtype=tf.resource, name=None)\n",
            "  1786512112144: TensorSpec(shape=(), dtype=tf.resource, name=None)\n",
            "  1786512112336: TensorSpec(shape=(), dtype=tf.resource, name=None)\n",
            "  1786512111952: TensorSpec(shape=(), dtype=tf.resource, name=None)\n",
            "  1786512113488: TensorSpec(shape=(), dtype=tf.resource, name=None)\n",
            "  1786512112912: TensorSpec(shape=(), dtype=tf.resource, name=None)\n",
            "  1786512110992: TensorSpec(shape=(), dtype=tf.resource, name=None)\n",
            "  1786512113104: TensorSpec(shape=(), dtype=tf.resource, name=None)\n",
            "  1786512113296: TensorSpec(shape=(), dtype=tf.resource, name=None)\n",
            "  1786512112528: TensorSpec(shape=(), dtype=tf.resource, name=None)\n",
            "  1786512110032: TensorSpec(shape=(), dtype=tf.resource, name=None)\n",
            "  1786512507920: TensorSpec(shape=(), dtype=tf.resource, name=None)\n",
            "  1786512506960: TensorSpec(shape=(), dtype=tf.resource, name=None)\n",
            "  1786512507152: TensorSpec(shape=(), dtype=tf.resource, name=None)\n",
            "  1786512507536: TensorSpec(shape=(), dtype=tf.resource, name=None)\n",
            "  1786512508880: TensorSpec(shape=(), dtype=tf.resource, name=None)\n",
            "  1786512508304: TensorSpec(shape=(), dtype=tf.resource, name=None)\n",
            "  1786512508496: TensorSpec(shape=(), dtype=tf.resource, name=None)\n",
            "  1786512508688: TensorSpec(shape=(), dtype=tf.resource, name=None)\n",
            "  1786512508112: TensorSpec(shape=(), dtype=tf.resource, name=None)\n",
            "  1786512509840: TensorSpec(shape=(), dtype=tf.resource, name=None)\n",
            "  1786512509264: TensorSpec(shape=(), dtype=tf.resource, name=None)\n",
            "  1786512509456: TensorSpec(shape=(), dtype=tf.resource, name=None)\n",
            "  1786512509648: TensorSpec(shape=(), dtype=tf.resource, name=None)\n",
            "  1786512507728: TensorSpec(shape=(), dtype=tf.resource, name=None)\n",
            "  1786512510800: TensorSpec(shape=(), dtype=tf.resource, name=None)\n",
            "  1786512510224: TensorSpec(shape=(), dtype=tf.resource, name=None)\n",
            "  1786512510416: TensorSpec(shape=(), dtype=tf.resource, name=None)\n",
            "  1786512510608: TensorSpec(shape=(), dtype=tf.resource, name=None)\n",
            "  1786512507344: TensorSpec(shape=(), dtype=tf.resource, name=None)\n",
            "  1786512511760: TensorSpec(shape=(), dtype=tf.resource, name=None)\n",
            "  1786512511184: TensorSpec(shape=(), dtype=tf.resource, name=None)\n",
            "  1786512511376: TensorSpec(shape=(), dtype=tf.resource, name=None)\n",
            "  1786512511568: TensorSpec(shape=(), dtype=tf.resource, name=None)\n",
            "  1786512509072: TensorSpec(shape=(), dtype=tf.resource, name=None)\n",
            "  1786512512720: TensorSpec(shape=(), dtype=tf.resource, name=None)\n",
            "  1786512512144: TensorSpec(shape=(), dtype=tf.resource, name=None)\n",
            "  1786512512336: TensorSpec(shape=(), dtype=tf.resource, name=None)\n",
            "  1786512512528: TensorSpec(shape=(), dtype=tf.resource, name=None)\n",
            "  1786512510032: TensorSpec(shape=(), dtype=tf.resource, name=None)\n",
            "  1786512513680: TensorSpec(shape=(), dtype=tf.resource, name=None)\n",
            "  1786512513104: TensorSpec(shape=(), dtype=tf.resource, name=None)\n",
            "  1786512513296: TensorSpec(shape=(), dtype=tf.resource, name=None)\n",
            "  1786512513488: TensorSpec(shape=(), dtype=tf.resource, name=None)\n",
            "  1786512510992: TensorSpec(shape=(), dtype=tf.resource, name=None)\n",
            "  1786512514640: TensorSpec(shape=(), dtype=tf.resource, name=None)\n",
            "  1786512514064: TensorSpec(shape=(), dtype=tf.resource, name=None)\n",
            "  1786512514256: TensorSpec(shape=(), dtype=tf.resource, name=None)\n",
            "  1786512514448: TensorSpec(shape=(), dtype=tf.resource, name=None)\n",
            "  1786512511952: TensorSpec(shape=(), dtype=tf.resource, name=None)\n",
            "  1786512515600: TensorSpec(shape=(), dtype=tf.resource, name=None)\n",
            "  1786512515024: TensorSpec(shape=(), dtype=tf.resource, name=None)\n",
            "  1786512515216: TensorSpec(shape=(), dtype=tf.resource, name=None)\n",
            "  1786512515408: TensorSpec(shape=(), dtype=tf.resource, name=None)\n",
            "  1786512512912: TensorSpec(shape=(), dtype=tf.resource, name=None)\n",
            "  1786512516560: TensorSpec(shape=(), dtype=tf.resource, name=None)\n",
            "  1786512515984: TensorSpec(shape=(), dtype=tf.resource, name=None)\n",
            "  1786512516176: TensorSpec(shape=(), dtype=tf.resource, name=None)\n",
            "  1786512516368: TensorSpec(shape=(), dtype=tf.resource, name=None)\n",
            "  1786512513872: TensorSpec(shape=(), dtype=tf.resource, name=None)\n",
            "  1786512517520: TensorSpec(shape=(), dtype=tf.resource, name=None)\n",
            "  1786512516944: TensorSpec(shape=(), dtype=tf.resource, name=None)\n",
            "  1786512517136: TensorSpec(shape=(), dtype=tf.resource, name=None)\n",
            "  1786512517328: TensorSpec(shape=(), dtype=tf.resource, name=None)\n",
            "  1786512514832: TensorSpec(shape=(), dtype=tf.resource, name=None)\n",
            "  1786512518480: TensorSpec(shape=(), dtype=tf.resource, name=None)\n",
            "  1786512517904: TensorSpec(shape=(), dtype=tf.resource, name=None)\n",
            "  1786512518096: TensorSpec(shape=(), dtype=tf.resource, name=None)\n",
            "  1786512518288: TensorSpec(shape=(), dtype=tf.resource, name=None)\n",
            "  1786512515792: TensorSpec(shape=(), dtype=tf.resource, name=None)\n",
            "  1786512519440: TensorSpec(shape=(), dtype=tf.resource, name=None)\n",
            "  1786512518864: TensorSpec(shape=(), dtype=tf.resource, name=None)\n",
            "  1786512519056: TensorSpec(shape=(), dtype=tf.resource, name=None)\n",
            "  1786512519248: TensorSpec(shape=(), dtype=tf.resource, name=None)\n",
            "  1786512516752: TensorSpec(shape=(), dtype=tf.resource, name=None)\n",
            "  1786512520400: TensorSpec(shape=(), dtype=tf.resource, name=None)\n",
            "  1786512519824: TensorSpec(shape=(), dtype=tf.resource, name=None)\n",
            "  1786512520016: TensorSpec(shape=(), dtype=tf.resource, name=None)\n",
            "  1786512520208: TensorSpec(shape=(), dtype=tf.resource, name=None)\n",
            "  1786512517712: TensorSpec(shape=(), dtype=tf.resource, name=None)\n",
            "  1786512521360: TensorSpec(shape=(), dtype=tf.resource, name=None)\n",
            "  1786512520784: TensorSpec(shape=(), dtype=tf.resource, name=None)\n",
            "  1786512520976: TensorSpec(shape=(), dtype=tf.resource, name=None)\n",
            "  1786512521168: TensorSpec(shape=(), dtype=tf.resource, name=None)\n",
            "  1786512518672: TensorSpec(shape=(), dtype=tf.resource, name=None)\n",
            "  1786512522320: TensorSpec(shape=(), dtype=tf.resource, name=None)\n",
            "  1786512521744: TensorSpec(shape=(), dtype=tf.resource, name=None)\n",
            "  1786512521936: TensorSpec(shape=(), dtype=tf.resource, name=None)\n",
            "  1786512521552: TensorSpec(shape=(), dtype=tf.resource, name=None)\n",
            "  1786512523088: TensorSpec(shape=(), dtype=tf.resource, name=None)\n",
            "  1786512522512: TensorSpec(shape=(), dtype=tf.resource, name=None)\n",
            "  1786512520592: TensorSpec(shape=(), dtype=tf.resource, name=None)\n",
            "  1786512522704: TensorSpec(shape=(), dtype=tf.resource, name=None)\n",
            "  1786512522896: TensorSpec(shape=(), dtype=tf.resource, name=None)\n",
            "  1786512522128: TensorSpec(shape=(), dtype=tf.resource, name=None)\n",
            "  1786512519632: TensorSpec(shape=(), dtype=tf.resource, name=None)\n",
            "  1786535870736: TensorSpec(shape=(), dtype=tf.resource, name=None)\n",
            "  1786535871120: TensorSpec(shape=(), dtype=tf.resource, name=None)\n",
            "  1786535871312: TensorSpec(shape=(), dtype=tf.resource, name=None)\n",
            "  1786535870928: TensorSpec(shape=(), dtype=tf.resource, name=None)\n",
            "  1786535872464: TensorSpec(shape=(), dtype=tf.resource, name=None)\n",
            "  1786535871888: TensorSpec(shape=(), dtype=tf.resource, name=None)\n",
            "  1786535872080: TensorSpec(shape=(), dtype=tf.resource, name=None)\n",
            "  1786535872272: TensorSpec(shape=(), dtype=tf.resource, name=None)\n",
            "  1786535871504: TensorSpec(shape=(), dtype=tf.resource, name=None)\n",
            "  1786535873424: TensorSpec(shape=(), dtype=tf.resource, name=None)\n",
            "  1786535872848: TensorSpec(shape=(), dtype=tf.resource, name=None)\n",
            "  1786535873040: TensorSpec(shape=(), dtype=tf.resource, name=None)\n",
            "  1786535873232: TensorSpec(shape=(), dtype=tf.resource, name=None)\n",
            "  1786535870544: TensorSpec(shape=(), dtype=tf.resource, name=None)\n",
            "  1786535874384: TensorSpec(shape=(), dtype=tf.resource, name=None)\n",
            "  1786535873808: TensorSpec(shape=(), dtype=tf.resource, name=None)\n",
            "  1786535874000: TensorSpec(shape=(), dtype=tf.resource, name=None)\n",
            "  1786535874192: TensorSpec(shape=(), dtype=tf.resource, name=None)\n",
            "  1786535871696: TensorSpec(shape=(), dtype=tf.resource, name=None)\n",
            "  1786535875344: TensorSpec(shape=(), dtype=tf.resource, name=None)\n",
            "  1786535874768: TensorSpec(shape=(), dtype=tf.resource, name=None)\n",
            "  1786535874960: TensorSpec(shape=(), dtype=tf.resource, name=None)\n",
            "  1786535875152: TensorSpec(shape=(), dtype=tf.resource, name=None)\n",
            "  1786535872656: TensorSpec(shape=(), dtype=tf.resource, name=None)\n",
            "  1786535876304: TensorSpec(shape=(), dtype=tf.resource, name=None)\n",
            "  1786535875728: TensorSpec(shape=(), dtype=tf.resource, name=None)\n",
            "  1786535875920: TensorSpec(shape=(), dtype=tf.resource, name=None)\n",
            "  1786535876112: TensorSpec(shape=(), dtype=tf.resource, name=None)\n",
            "  1786535873616: TensorSpec(shape=(), dtype=tf.resource, name=None)\n",
            "  1786535877264: TensorSpec(shape=(), dtype=tf.resource, name=None)\n",
            "  1786535874576: TensorSpec(shape=(), dtype=tf.resource, name=None)\n",
            "  1786535878032: TensorSpec(shape=(), dtype=tf.resource, name=None)\n",
            "  1786535878992: TensorSpec(shape=(), dtype=tf.resource, name=None)\n",
            "  1786535878224: TensorSpec(shape=(), dtype=tf.resource, name=None)\n",
            "Kuantisasi ke float16 berhasil.\n"
          ]
        }
      ],
      "source": [
        "# --- Bagian 2: Lakukan Kuantisasi Menggunakan TensorFlow Lite Converter ---\n",
        "\n",
        "# Metode Kuantisasi: Post-training float16 quantization\n",
        "# Mengurangi ukuran model dengan mengubah bobot menjadi float16\n",
        "print(\"\\nMelakukan kuantisasi ke float16...\")\n",
        "converter_float16 = tf.lite.TFLiteConverter.from_keras_model(model)\n",
        "converter_float16.optimizations = [tf.lite.Optimize.DEFAULT]\n",
        "converter_float16.target_spec.supported_types = [tf.float16]\n",
        "\n",
        "try:\n",
        "    tflite_model_float16 = converter_float16.convert()\n",
        "    print(\"Kuantisasi ke float16 berhasil.\")\n",
        "except Exception as e:\n",
        "    print(f\"Error saat kuantisasi ke float16: {e}\")\n",
        "    # Anda bisa mencoba kuantisasi integer jika float16 gagal, atau debug errornya.\n"
      ]
    },
    {
      "cell_type": "code",
      "execution_count": null,
      "id": "89699566",
      "metadata": {
        "id": "89699566",
        "outputId": "2fdf366e-d02c-4fc8-d757-91777cc6e62b"
      },
      "outputs": [
        {
          "name": "stdout",
          "output_type": "stream",
          "text": [
            "\n",
            "Menyimpan model TensorFlow Lite (float16) ke: ../models/klasifikasi_sampah_tflite_v1.tflite\n",
            "Model TensorFlow Lite (float16) berhasil disimpan. Ukuran: 4.88 MB\n"
          ]
        }
      ],
      "source": [
        "# --- Bagian 3: Simpan Model yang Sudah Dikuantisasi ---\n",
        "\n",
        "# Tentukan jalur penyimpanan untuk model yang dikuantisasi\n",
        "\n",
        "print(f\"\\nMenyimpan model TensorFlow Lite (float16) ke: {QUANTIZED_MODEL_PATH}\")\n",
        "try:\n",
        "    with open(QUANTIZED_MODEL_PATH, 'wb') as f:\n",
        "        f.write(tflite_model_float16)\n",
        "    print(f\"Model TensorFlow Lite (float16) berhasil disimpan. Ukuran: {os.path.getsize(QUANTIZED_MODEL_PATH) / (1024 * 1024):.2f} MB\")\n",
        "except Exception as e:\n",
        "    print(f\"Error saat menyimpan model float16: {e}\")"
      ]
    },
    {
      "cell_type": "markdown",
      "id": "020bad0f",
      "metadata": {
        "id": "020bad0f"
      },
      "source": [
        "# Convert to Tensorflow Js"
      ]
    },
    {
      "cell_type": "code",
      "execution_count": null,
      "id": "076d9031",
      "metadata": {
        "id": "076d9031"
      },
      "outputs": [],
      "source": [
        "# --- Konfigurasi Jalur Model ---\n",
        "# Pastikan jalur ini sesuai dengan lokasi model Anda\n",
        "MODEL_H5_PATH = '../models/klasifikasi_sampah_ft_v1.h5' \n",
        "\n",
        "# Direktori output untuk model TensorFlow.js\n",
        "# Ini akan membuat folder yang berisi file model.json dan shard weights\n",
        "TFJS_MODEL_DIR = '../models/Tensorflow.js'\n",
        "\n",
        "# Pastikan direktori output ada\n",
        "os.makedirs(TFJS_MODEL_DIR, exist_ok=True)"
      ]
    },
    {
      "cell_type": "code",
      "execution_count": null,
      "id": "d05d4a07",
      "metadata": {},
      "outputs": [],
      "source": [
        "# Pastikan direktori output ada\n",
        "# Ini akan membuat folder jika belum ada. `exist_ok=True` mencegah error jika folder sudah ada.\n",
        "os.makedirs(TFJS_MODEL_DIR, exist_ok=True)\n",
        "print(f\"Memastikan direktori output '{TFJS_MODEL_DIR}' tersedia.\")\n",
        "\n",
        "# --- Bagian 2: Muat Model Keras (.h5) ---\n",
        "print(f\"\\nMemuat model Keras dari: {MODEL_H5_PATH}\")\n",
        "try:\n",
        "    model = tf.keras.models.load_model(MODEL_H5_PATH)\n",
        "    print(\"Model Keras berhasil dimuat.\")\n",
        "    model.summary()\n",
        "except Exception as e:\n",
        "    print(f\"Error: Gagal memuat model Keras dari '{MODEL_H5_PATH}'.\")\n",
        "    print(f\"Pastikan jalur model di Google Drive benar dan file tidak rusak. Detail error: {e}\")\n",
        "    exit() # Hentikan eksekusi jika model tidak dapat dimuat"
      ]
    },
    {
      "cell_type": "code",
      "execution_count": null,
      "id": "8fkTrDrD_RD6",
      "metadata": {
        "colab": {
          "base_uri": "https://localhost:8080/",
          "height": 719
        },
        "id": "8fkTrDrD_RD6",
        "outputId": "166e4cfe-14bb-4d57-923c-4eb7936c718a"
      },
      "outputs": [
        {
          "name": "stdout",
          "output_type": "stream",
          "text": [
            "Memastikan direktori output '/content/drive/My Drive/IBM Project/Models' tersedia.\n",
            "\n",
            "Memuat model Keras dari: /content/drive/My Drive/IBM Project/klasifikasi_sampah_final_v1.h5\n"
          ]
        },
        {
          "name": "stderr",
          "output_type": "stream",
          "text": [
            "WARNING:absl:Compiled the loaded model, but the compiled metrics have yet to be built. `model.compile_metrics` will be empty until you train or evaluate the model.\n"
          ]
        },
        {
          "name": "stdout",
          "output_type": "stream",
          "text": [
            "Model Keras berhasil dimuat.\n"
          ]
        },
        {
          "data": {
            "text/html": [
              "<pre style=\"white-space:pre;overflow-x:auto;line-height:normal;font-family:Menlo,'DejaVu Sans Mono',consolas,'Courier New',monospace\"><span style=\"font-weight: bold\">Model: \"functional_14\"</span>\n",
              "</pre>\n"
            ],
            "text/plain": [
              "\u001b[1mModel: \"functional_14\"\u001b[0m\n"
            ]
          },
          "metadata": {},
          "output_type": "display_data"
        },
        {
          "data": {
            "text/html": [
              "<pre style=\"white-space:pre;overflow-x:auto;line-height:normal;font-family:Menlo,'DejaVu Sans Mono',consolas,'Courier New',monospace\">┏━━━━━━━━━━━━━━━━━━━━━━━━━━━━━━━━━┳━━━━━━━━━━━━━━━━━━━━━━━━┳━━━━━━━━━━━━━━━┓\n",
              "┃<span style=\"font-weight: bold\"> Layer (type)                    </span>┃<span style=\"font-weight: bold\"> Output Shape           </span>┃<span style=\"font-weight: bold\">       Param # </span>┃\n",
              "┡━━━━━━━━━━━━━━━━━━━━━━━━━━━━━━━━━╇━━━━━━━━━━━━━━━━━━━━━━━━╇━━━━━━━━━━━━━━━┩\n",
              "│ input_layer_4 (<span style=\"color: #0087ff; text-decoration-color: #0087ff\">InputLayer</span>)      │ (<span style=\"color: #00d7ff; text-decoration-color: #00d7ff\">None</span>, <span style=\"color: #00af00; text-decoration-color: #00af00\">224</span>, <span style=\"color: #00af00; text-decoration-color: #00af00\">224</span>, <span style=\"color: #00af00; text-decoration-color: #00af00\">3</span>)    │             <span style=\"color: #00af00; text-decoration-color: #00af00\">0</span> │\n",
              "├─────────────────────────────────┼────────────────────────┼───────────────┤\n",
              "│ mobilenetv2_1.00_224            │ (<span style=\"color: #00d7ff; text-decoration-color: #00d7ff\">None</span>, <span style=\"color: #00af00; text-decoration-color: #00af00\">7</span>, <span style=\"color: #00af00; text-decoration-color: #00af00\">7</span>, <span style=\"color: #00af00; text-decoration-color: #00af00\">1280</span>)     │     <span style=\"color: #00af00; text-decoration-color: #00af00\">2,257,984</span> │\n",
              "│ (<span style=\"color: #0087ff; text-decoration-color: #0087ff\">Functional</span>)                    │                        │               │\n",
              "├─────────────────────────────────┼────────────────────────┼───────────────┤\n",
              "│ global_average_pooling2d_1      │ (<span style=\"color: #00d7ff; text-decoration-color: #00d7ff\">None</span>, <span style=\"color: #00af00; text-decoration-color: #00af00\">1280</span>)           │             <span style=\"color: #00af00; text-decoration-color: #00af00\">0</span> │\n",
              "│ (<span style=\"color: #0087ff; text-decoration-color: #0087ff\">GlobalAveragePooling2D</span>)        │                        │               │\n",
              "├─────────────────────────────────┼────────────────────────┼───────────────┤\n",
              "│ dense_2 (<span style=\"color: #0087ff; text-decoration-color: #0087ff\">Dense</span>)                 │ (<span style=\"color: #00d7ff; text-decoration-color: #00d7ff\">None</span>, <span style=\"color: #00af00; text-decoration-color: #00af00\">256</span>)            │       <span style=\"color: #00af00; text-decoration-color: #00af00\">327,936</span> │\n",
              "├─────────────────────────────────┼────────────────────────┼───────────────┤\n",
              "│ dropout_1 (<span style=\"color: #0087ff; text-decoration-color: #0087ff\">Dropout</span>)             │ (<span style=\"color: #00d7ff; text-decoration-color: #00d7ff\">None</span>, <span style=\"color: #00af00; text-decoration-color: #00af00\">256</span>)            │             <span style=\"color: #00af00; text-decoration-color: #00af00\">0</span> │\n",
              "├─────────────────────────────────┼────────────────────────┼───────────────┤\n",
              "│ dense_3 (<span style=\"color: #0087ff; text-decoration-color: #0087ff\">Dense</span>)                 │ (<span style=\"color: #00d7ff; text-decoration-color: #00d7ff\">None</span>, <span style=\"color: #00af00; text-decoration-color: #00af00\">2</span>)              │           <span style=\"color: #00af00; text-decoration-color: #00af00\">514</span> │\n",
              "└─────────────────────────────────┴────────────────────────┴───────────────┘\n",
              "</pre>\n"
            ],
            "text/plain": [
              "┏━━━━━━━━━━━━━━━━━━━━━━━━━━━━━━━━━┳━━━━━━━━━━━━━━━━━━━━━━━━┳━━━━━━━━━━━━━━━┓\n",
              "┃\u001b[1m \u001b[0m\u001b[1mLayer (type)                   \u001b[0m\u001b[1m \u001b[0m┃\u001b[1m \u001b[0m\u001b[1mOutput Shape          \u001b[0m\u001b[1m \u001b[0m┃\u001b[1m \u001b[0m\u001b[1m      Param #\u001b[0m\u001b[1m \u001b[0m┃\n",
              "┡━━━━━━━━━━━━━━━━━━━━━━━━━━━━━━━━━╇━━━━━━━━━━━━━━━━━━━━━━━━╇━━━━━━━━━━━━━━━┩\n",
              "│ input_layer_4 (\u001b[38;5;33mInputLayer\u001b[0m)      │ (\u001b[38;5;45mNone\u001b[0m, \u001b[38;5;34m224\u001b[0m, \u001b[38;5;34m224\u001b[0m, \u001b[38;5;34m3\u001b[0m)    │             \u001b[38;5;34m0\u001b[0m │\n",
              "├─────────────────────────────────┼────────────────────────┼───────────────┤\n",
              "│ mobilenetv2_1.00_224            │ (\u001b[38;5;45mNone\u001b[0m, \u001b[38;5;34m7\u001b[0m, \u001b[38;5;34m7\u001b[0m, \u001b[38;5;34m1280\u001b[0m)     │     \u001b[38;5;34m2,257,984\u001b[0m │\n",
              "│ (\u001b[38;5;33mFunctional\u001b[0m)                    │                        │               │\n",
              "├─────────────────────────────────┼────────────────────────┼───────────────┤\n",
              "│ global_average_pooling2d_1      │ (\u001b[38;5;45mNone\u001b[0m, \u001b[38;5;34m1280\u001b[0m)           │             \u001b[38;5;34m0\u001b[0m │\n",
              "│ (\u001b[38;5;33mGlobalAveragePooling2D\u001b[0m)        │                        │               │\n",
              "├─────────────────────────────────┼────────────────────────┼───────────────┤\n",
              "│ dense_2 (\u001b[38;5;33mDense\u001b[0m)                 │ (\u001b[38;5;45mNone\u001b[0m, \u001b[38;5;34m256\u001b[0m)            │       \u001b[38;5;34m327,936\u001b[0m │\n",
              "├─────────────────────────────────┼────────────────────────┼───────────────┤\n",
              "│ dropout_1 (\u001b[38;5;33mDropout\u001b[0m)             │ (\u001b[38;5;45mNone\u001b[0m, \u001b[38;5;34m256\u001b[0m)            │             \u001b[38;5;34m0\u001b[0m │\n",
              "├─────────────────────────────────┼────────────────────────┼───────────────┤\n",
              "│ dense_3 (\u001b[38;5;33mDense\u001b[0m)                 │ (\u001b[38;5;45mNone\u001b[0m, \u001b[38;5;34m2\u001b[0m)              │           \u001b[38;5;34m514\u001b[0m │\n",
              "└─────────────────────────────────┴────────────────────────┴───────────────┘\n"
            ]
          },
          "metadata": {},
          "output_type": "display_data"
        },
        {
          "data": {
            "text/html": [
              "<pre style=\"white-space:pre;overflow-x:auto;line-height:normal;font-family:Menlo,'DejaVu Sans Mono',consolas,'Courier New',monospace\"><span style=\"font-weight: bold\"> Total params: </span><span style=\"color: #00af00; text-decoration-color: #00af00\">2,586,436</span> (9.87 MB)\n",
              "</pre>\n"
            ],
            "text/plain": [
              "\u001b[1m Total params: \u001b[0m\u001b[38;5;34m2,586,436\u001b[0m (9.87 MB)\n"
            ]
          },
          "metadata": {},
          "output_type": "display_data"
        },
        {
          "data": {
            "text/html": [
              "<pre style=\"white-space:pre;overflow-x:auto;line-height:normal;font-family:Menlo,'DejaVu Sans Mono',consolas,'Courier New',monospace\"><span style=\"font-weight: bold\"> Trainable params: </span><span style=\"color: #00af00; text-decoration-color: #00af00\">2,518,210</span> (9.61 MB)\n",
              "</pre>\n"
            ],
            "text/plain": [
              "\u001b[1m Trainable params: \u001b[0m\u001b[38;5;34m2,518,210\u001b[0m (9.61 MB)\n"
            ]
          },
          "metadata": {},
          "output_type": "display_data"
        },
        {
          "data": {
            "text/html": [
              "<pre style=\"white-space:pre;overflow-x:auto;line-height:normal;font-family:Menlo,'DejaVu Sans Mono',consolas,'Courier New',monospace\"><span style=\"font-weight: bold\"> Non-trainable params: </span><span style=\"color: #00af00; text-decoration-color: #00af00\">68,224</span> (266.50 KB)\n",
              "</pre>\n"
            ],
            "text/plain": [
              "\u001b[1m Non-trainable params: \u001b[0m\u001b[38;5;34m68,224\u001b[0m (266.50 KB)\n"
            ]
          },
          "metadata": {},
          "output_type": "display_data"
        },
        {
          "data": {
            "text/html": [
              "<pre style=\"white-space:pre;overflow-x:auto;line-height:normal;font-family:Menlo,'DejaVu Sans Mono',consolas,'Courier New',monospace\"><span style=\"font-weight: bold\"> Optimizer params: </span><span style=\"color: #00af00; text-decoration-color: #00af00\">2</span> (12.00 B)\n",
              "</pre>\n"
            ],
            "text/plain": [
              "\u001b[1m Optimizer params: \u001b[0m\u001b[38;5;34m2\u001b[0m (12.00 B)\n"
            ]
          },
          "metadata": {},
          "output_type": "display_data"
        },
        {
          "name": "stderr",
          "output_type": "stream",
          "text": [
            "WARNING:absl:You are saving your model as an HDF5 file via `model.save()` or `keras.saving.save_model(model)`. This file format is considered legacy. We recommend using instead the native Keras format, e.g. `model.save('my_model.keras')` or `keras.saving.save_model(model, 'my_model.keras')`. \n"
          ]
        },
        {
          "name": "stdout",
          "output_type": "stream",
          "text": [
            "\n",
            "Mengonversi model ke format TensorFlow.js di: /content/drive/My Drive/IBM Project/Models\n",
            "failed to lookup keras version from the file,\n",
            "    this is likely a weight only file\n",
            "Konversi ke TensorFlow.js berhasil!\n",
            "\n",
            "File yang dihasilkan di Google Drive Anda:\n",
            "/content/drive/My Drive/IBM Project/Models/group1-shard1of3.bin\n",
            "/content/drive/My Drive/IBM Project/Models/group1-shard2of3.bin\n",
            "/content/drive/My Drive/IBM Project/Models/group1-shard3of3.bin\n",
            "/content/drive/My Drive/IBM Project/Models/model.json\n",
            "\n",
            "Model TensorFlow.js siap untuk digunakan di aplikasi web.\n"
          ]
        }
      ],
      "source": [
        "# --- Bagian 3: Konversi Model ke Format TensorFlow.js ---\n",
        "print(f\"\\nMengonversi model ke format TensorFlow.js di: {TFJS_MODEL_DIR}\")\n",
        "try:\n",
        "    # Untuk model Keras (.h5), gunakan tfjs.converters.save_keras_model\n",
        "    tfjs.converters.save_keras_model(model, TFJS_MODEL_DIR)\n",
        "    print(\"Konversi ke TensorFlow.js berhasil!\")\n",
        "    print(\"\\nFile yang dihasilkan di Google Drive Anda:\")\n",
        "    # Menampilkan daftar file yang dihasilkan untuk konfirmasi\n",
        "    for root, dirs, files in os.walk(TFJS_MODEL_DIR):\n",
        "        for name in files:\n",
        "            print(os.path.join(root, name))\n",
        "except Exception as e:\n",
        "    print(f\"Error saat mengonversi model ke TensorFlow.js: {e}\")\n",
        "    print(\"Pastikan Anda telah menginstal `tensorflowjs` (`pip install tensorflowjs`)\")\n",
        "    print(\"Dan pastikan versi TensorFlow serta TensorFlow.js kompatibel.\")\n",
        "    exit()\n",
        "\n",
        "print(\"\\nModel TensorFlow.js siap untuk digunakan di aplikasi web.\")\n"
      ]
    }
  ],
  "metadata": {
    "colab": {
      "provenance": [],
      "toc_visible": true
    },
    "kernelspec": {
      "display_name": ".venv",
      "language": "python",
      "name": "python3"
    },
    "language_info": {
      "codemirror_mode": {
        "name": "ipython",
        "version": 3
      },
      "file_extension": ".py",
      "mimetype": "text/x-python",
      "name": "python",
      "nbconvert_exporter": "python",
      "pygments_lexer": "ipython3",
      "version": "3.11.9"
    }
  },
  "nbformat": 4,
  "nbformat_minor": 5
}
